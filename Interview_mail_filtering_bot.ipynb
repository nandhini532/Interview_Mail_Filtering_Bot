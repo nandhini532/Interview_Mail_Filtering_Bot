{
  "nbformat": 4,
  "nbformat_minor": 0,
  "metadata": {
    "colab": {
      "provenance": []
    },
    "kernelspec": {
      "name": "python3",
      "display_name": "Python 3"
    },
    "language_info": {
      "name": "python"
    }
  },
  "cells": [
    {
      "cell_type": "markdown",
      "source": [
        "#Email filtering code\n",
        "#### (please upload the sample dataset file from github to run this code)"
      ],
      "metadata": {
        "id": "grp9Ze8khsfl"
      }
    },
    {
      "cell_type": "code",
      "source": [
        "import csv\n",
        "import re\n",
        "\n",
        "def filter_emails(csv_file):\n",
        "    filtered_emails = []\n",
        "    # please upload the csv file from github to colab to make sure the code runs\n",
        "    with open(csv_file, 'r') as csvfile, open('filtered_emails.txt', 'w') as outfile:\n",
        "        reader = csv.reader(csvfile)\n",
        "        writer = csv.writer(outfile)\n",
        "\n",
        "        next(reader)  # Skip header row\n",
        "\n",
        "        for row in reader:\n",
        "            date, sender, subject, message = row\n",
        "\n",
        "            interview_keywords = [\"interview\", \"invitation\", \"screening\", \"phone interview\", \"onsite\"]\n",
        "            is_interview = any(keyword in (subject.lower() + message.lower()) for keyword in interview_keywords)\n",
        "\n",
        "            finance_keywords = [\"finance\", \"accounting\", \"analyst\"]\n",
        "            is_finance = any(keyword in (subject.lower() + message.lower()) for keyword in finance_keywords)\n",
        "\n",
        "            company_regex = r\"(?:at|from) (.*? Inc\\.|Corp\\.|LLC)\"\n",
        "            company_match = re.search(company_regex, message, re.IGNORECASE)\n",
        "            company = company_match.group(1) if company_match else \"*To be determined*\"\n",
        "\n",
        "            if is_interview or is_finance:\n",
        "                role = \"*To be determined*\"\n",
        "                writer.writerow([date, sender, subject, message, company, role])\n",
        "                filtered_emails.append(f\"Date: {date}\\nSender: {sender}\\nSubject: {subject}\\nMessage: {message}\\nCompany: {company}\\nRole: {role}\\n\")\n",
        "\n",
        "    print(\"Filtered emails saved to 'filtered_emails.txt'\")\n",
        "    return '\\n'.join(filtered_emails)\n",
        "\n",
        "output_variable = filter_emails('sample_mail_data.csv')\n",
        "#You can find the filtered_emails.txt file in the colab files"
      ],
      "metadata": {
        "colab": {
          "base_uri": "https://localhost:8080/"
        },
        "id": "eni4uowcczZb",
        "outputId": "f5285def-8030-4591-a20f-c1b92351c661"
      },
      "execution_count": 15,
      "outputs": [
        {
          "output_type": "stream",
          "name": "stdout",
          "text": [
            "Filtered emails saved to 'filtered_emails.txt'\n"
          ]
        }
      ]
    },
    {
      "cell_type": "markdown",
      "source": [
        "##Necessary libraries for AI chat bot made with the help of vertex AI"
      ],
      "metadata": {
        "id": "c6Cr_MNZh326"
      }
    },
    {
      "cell_type": "code",
      "execution_count": 16,
      "metadata": {
        "id": "Q2v3TNxHT91H"
      },
      "outputs": [],
      "source": [
        "from google.auth.transport.requests import Request\n",
        "from google.oauth2.service_account import Credentials"
      ]
    },
    {
      "cell_type": "code",
      "source": [
        "key_path='/content/mykey.json' #upload the key from github to colab and run this."
      ],
      "metadata": {
        "id": "2zAYQl3wUErF"
      },
      "execution_count": 19,
      "outputs": []
    },
    {
      "cell_type": "code",
      "source": [
        "credentials = Credentials.from_service_account_file(\n",
        "    key_path,\n",
        "scopes=['https://www.googleapis.com/auth/cloud-platform'])\n",
        "if credentials.expired:\n",
        "  credentials.refresh(Request())"
      ],
      "metadata": {
        "id": "GuXgVbwRUODg"
      },
      "execution_count": 5,
      "outputs": []
    },
    {
      "cell_type": "code",
      "source": [
        "PROJECT_ID='metal-dimension-423109-s9'\n",
        "REGION='us-central1'"
      ],
      "metadata": {
        "id": "JtpVRciVURHT"
      },
      "execution_count": 6,
      "outputs": []
    },
    {
      "cell_type": "markdown",
      "source": [
        "##AI chat bot code"
      ],
      "metadata": {
        "id": "SQswQ9fiicdN"
      }
    },
    {
      "cell_type": "code",
      "source": [
        "import base64\n",
        "import vertexai\n",
        "# initialize vertex\n",
        "vertexai.init(project = PROJECT_ID, location = REGION, credentials = credentials)\n",
        "from vertexai.generative_models import GenerativeModel, Part, FinishReason\n",
        "import vertexai.preview.generative_models as generative_models\n",
        "\n",
        "def generate():\n",
        "  vertexai.init(project=\"metal-dimension-423109-s9\", location=\"us-central1\")\n",
        "  model = GenerativeModel(\"gemini-1.0-pro-002\")\n",
        "  input_prompt=input(\"Enter a prompt: \")\n",
        "  if(input_prompt=='stop'):\n",
        "    print(\"If you have any other queries, please restart the bot, I am always here to help!\")\n",
        "    return\n",
        "  responses = model.generate_content(\n",
        "      [f\"\"\"{output_variable}\n",
        "\n",
        "input: did i get any mail from microsoft?\n",
        "output: Yes, you received two emails from Microsoft on 2024-12-05 at 17:24:10 and 17:20:00.\n",
        "The first email informs you that you have successfully passed the initial screening phase and have been selected to move forward in the selection process for a role at Microsoft. The email highlights your strong qualifications and potential to make a significant impact at the company.\n",
        "The second email congratulates you on being shortlisted for a role at Microsoft. It emphasizes your impressive qualifications and experience, and expresses the company\\'s belief that you would be a valuable addition to their team.\n",
        "Both emails mention that the next step will involve scheduling interviews to explore your skills, experiences, and fit for the role in greater detail. You can expect to receive an email from Microsoft\\'s recruiting team shortly to coordinate interview dates and times.\n",
        "\n",
        "input: did i get any mail from apple?\n",
        "output: I'm sorry, but there are no emails in this list from Apple as of now. Please check later.\n",
        "\n",
        "input: am i selected for any comapny's interview?\n",
        "output: Yes, you have been shortlisted for interviews at the following companies:\n",
        "      DEEP TECH for the position of [Job Title] on [Date] at [Time].\n",
        "      NV NATIONAL for the position of tester on [Date] at [Time].\n",
        "      AKUTECH for the position of analyst on [Date] at [Time].\n",
        "      MK GLOBAL for the position of SDE on [Date] at [Time].\n",
        "\n",
        "input: {input_prompt}\n",
        "output:\n",
        "\"\"\"],\n",
        "      generation_config=generation_config,\n",
        "      safety_settings=safety_settings,\n",
        "  )\n",
        "\n",
        "  for candidate in responses.candidates:\n",
        "        print(candidate.content.parts[0].text)\n",
        "  generate()\n",
        "\n",
        "generation_config = {\n",
        "    \"max_output_tokens\": 2048,\n",
        "    \"temperature\": 1,\n",
        "    \"top_p\": 1,\n",
        "}\n",
        "\n",
        "safety_settings = {\n",
        "    generative_models.HarmCategory.HARM_CATEGORY_HATE_SPEECH: generative_models.HarmBlockThreshold.BLOCK_MEDIUM_AND_ABOVE,\n",
        "    generative_models.HarmCategory.HARM_CATEGORY_DANGEROUS_CONTENT: generative_models.HarmBlockThreshold.BLOCK_MEDIUM_AND_ABOVE,\n",
        "    generative_models.HarmCategory.HARM_CATEGORY_SEXUALLY_EXPLICIT: generative_models.HarmBlockThreshold.BLOCK_MEDIUM_AND_ABOVE,\n",
        "    generative_models.HarmCategory.HARM_CATEGORY_HARASSMENT: generative_models.HarmBlockThreshold.BLOCK_MEDIUM_AND_ABOVE,\n",
        "}\n",
        "\n",
        "generate()\n",
        "#the given context above is generated by the mail classification which filters the interview related mails separately.\n",
        "# the chat bot made from vertex ai answers the questions based on the context given. you can ask a question like \"did i recieve any mail from apple?\" etc and the bot replies.\n",
        "# to stop the bot, please input \"stop\""
      ],
      "metadata": {
        "colab": {
          "base_uri": "https://localhost:8080/"
        },
        "id": "Hjrx4sGshLgM",
        "outputId": "52ce6325-9871-438d-f710-b8ffeeb95e3b"
      },
      "execution_count": 18,
      "outputs": [
        {
          "output_type": "stream",
          "name": "stdout",
          "text": [
            "Enter a prompt: hello\n",
            "Hello! How can I help you today?\n",
            "Enter a prompt: did i get any mail from apple?\n",
            "I'm sorry, but there are no emails in this list from Apple as of now. Please check later.\n",
            "Enter a prompt: give me a summary of how many interviws i got selected?\n",
            "## Interview Summary\n",
            "\n",
            "Based on the emails you provided, you have been selected for interviews at the following companies and roles:\n",
            "\n",
            "**Company** | **Role** | **Date** | **Time**\n",
            "---|---|---|---|\n",
            "DEEP TECH | [Job Title] | [Date] | [Time]\n",
            "NV NATIONAL | tester | [Date] | [Time]\n",
            "AKUTECH | analyst | [Date] | [Time]\n",
            "MK GLOBAL | SDE | [Date] | [Time]\n",
            "\n",
            "In addition, you have been shortlisted for interviews at Microsoft for two different roles. The emails do not specify the date and time of the interviews, but you should expect to receive an email from Microsoft's recruiting team shortly to coordinate these details.\n",
            "\n",
            "Here is a summary of the total number of interview invitations you have received:\n",
            "\n",
            "* Confirmed interviews: 4\n",
            "* Shortlisted interviews: 2\n",
            "\n",
            "## Next Steps\n",
            "\n",
            "* Review the interview details for each company and role.\n",
            "* Prepare for your interviews by researching the company, practicing your answers to common interview questions, and dressing professionally.\n",
            "* Be sure to arrive on time for your interviews and be polite and respectful to everyone you meet.\n",
            "* Follow up with each company after your interview to thank them for their time and reiterate your interest in the position.\n",
            "\n",
            "I wish you the best of luck in your interviews!\n",
            "\n",
            "Enter a prompt: did i get any analyst role interview mail?\n",
            "Yes, you have been invited for an interview with AKUTECH for the position of analyst on [Date] at [Time]. The interview panel will include [Interviewer Names].\n",
            "\n",
            "Enter a prompt: stop\n",
            "If you have any other queries, please restart the bot, I am always here to help!\n"
          ]
        }
      ]
    }
  ]
}